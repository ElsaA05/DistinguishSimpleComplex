{
 "cells": [
  {
   "cell_type": "code",
   "execution_count": 4,
   "id": "10c6e9fb",
   "metadata": {},
   "outputs": [],
   "source": [
    "# import the package\n",
    "\n",
    "import multiprocessing\n",
    "import matplotlib.pyplot as plt\n",
    "import numpy as np\n",
    "import pickle\n",
    "\n",
    "%matplotlib inline"
   ]
  },
  {
   "cell_type": "markdown",
   "id": "b69170ef",
   "metadata": {},
   "source": [
    "## A - Usefull function"
   ]
  },
  {
   "cell_type": "code",
   "execution_count": null,
   "id": "afd76d31",
   "metadata": {},
   "outputs": [],
   "source": [
    "def P_CS(beta,phi,r,d):\n",
    "    \n",
    "    \"\"\"\n",
    "    Function which calculates P(X_hat = Cx | X = Sm), \n",
    "    taking as an input beta, phi, r (rate of the spontaneous adoption) and d (degree)\n",
    "    \"\"\"\n",
    "    \n",
    "    prod=1\n",
    "    for k in range(1,int(np.ceil(d*phi))):\n",
    "        p=1-(1-r)**(d-k)\n",
    "        b=1-(1-beta)**(k)\n",
    "        prod*= (p-b*p)/(b+p-b*p)\n",
    "        #prod*= (p)/(b+p-b*p)\n",
    "    k=int(np.ceil(d*phi))\n",
    "    b=1-(1-beta)**(k)\n",
    "\n",
    "    return 1 - prod*b"
   ]
  },
  {
   "cell_type": "markdown",
   "id": "6640b4de",
   "metadata": {},
   "source": [
    "## B-Theory"
   ]
  },
  {
   "cell_type": "markdown",
   "id": "2e1e6239",
   "metadata": {},
   "source": [
    "$$\\text{Accuracy} = \\frac{1}{1-e^{-\\lambda}} \\sum_{d=1}^\\infty \\frac{\\lambda^d e^{-\\lambda}}{2d!} \\left(1 + 1-\\left(\\prod_{k=1}^{\\lfloor d\\phi \\rfloor} \\frac{p_k}{b_k+p_k-p_kb_k} \\right) b_{\\lceil d\\phi \\rceil} \\right)$$\n"
   ]
  },
  {
   "cell_type": "markdown",
   "id": "d5394a8c",
   "metadata": {},
   "source": [
    "## C-Calculations"
   ]
  },
  {
   "cell_type": "code",
   "execution_count": 7,
   "id": "8c65ed5a",
   "metadata": {},
   "outputs": [
    {
     "name": "stderr",
     "output_type": "stream",
     "text": [
      "/tmp/ipykernel_5896/1390645500.py:25: UserWarning: FixedFormatter should only be used together with FixedLocator\n",
      "  ax.set_xticklabels(['0']+['{:.1f}'.format(be) for be in  phis])\n",
      "/tmp/ipykernel_5896/1390645500.py:26: UserWarning: FixedFormatter should only be used together with FixedLocator\n",
      "  ax.set_yticklabels(['0']+['{:.1f}'.format(be) for be in  betas])\n"
     ]
    },
    {
     "data": {
      "image/png": "[encoded data removed]",
      "text/plain": [
       "<Figure size 432x288 with 1 Axes>"
      ]
     },
     "metadata": {
      "needs_background": "light"
     },
     "output_type": "display_data"
    }
   ],
   "source": [
    "from scipy.stats import poisson\n",
    "\n",
    "n=5\n",
    "r=0.05\n",
    "lamb = 4\n",
    "betas = np.linspace(0.1,0.9,n)[::-1]\n",
    "phis = np.linspace(0.1,0.9,n)\n",
    "\n",
    "A=np.zeros((n,n))\n",
    "for i, beta in enumerate(betas):\n",
    "    for j, phi in enumerate(phis):\n",
    "        for d in range(1,1000):\n",
    "            A[i,j]+= poisson.pmf(d, lamb)/(1-np.exp(-lamb)) * 0.5*(1+P_CS(beta,phi,r,d))\n",
    "            \n",
    "# visualisation of the matrix\n",
    "fig, ax = plt.subplots()\n",
    "\n",
    "ax.matshow(A,cmap=\"Reds\")\n",
    "\n",
    "for (i, j), z in np.ndenumerate(A):\n",
    "    ax.text(j, i, '{:.3f}'.format(z), ha='center', va='center', color='black')\n",
    "\n",
    "plt.xlabel(\"phi\")\n",
    "plt.ylabel(\"beta\")\n",
    "ax.set_xticklabels(['0']+['{:.1f}'.format(be) for be in  phis]) \n",
    "ax.set_yticklabels(['0']+['{:.1f}'.format(be) for be in  betas]) \n",
    "\n",
    "plt.show()\n"
   ]
  },
  {
   "cell_type": "markdown",
   "id": "783c1714",
   "metadata": {},
   "source": [
    "## D-Saving the matrix"
   ]
  },
  {
   "cell_type": "code",
   "execution_count": 8,
   "id": "336d22c2",
   "metadata": {},
   "outputs": [],
   "source": [
    "with open('accuracies_experiment1_llh_theory.pickle', 'wb') as handle:\n",
    "    pickle.dump(A, handle)"
   ]
  }
 ],
 "metadata": {
  "kernelspec": {
   "display_name": "Python 3 (ipykernel)",
   "language": "python",
   "name": "python3"
  },
  "language_info": {
   "codemirror_mode": {
    "name": "ipython",
    "version": 3
   },
   "file_extension": ".py",
   "mimetype": "text/x-python",
   "name": "python",
   "nbconvert_exporter": "python",
   "pygments_lexer": "ipython3",
   "version": "3.9.7"
  }
 },
 "nbformat": 4,
 "nbformat_minor": 5
}
